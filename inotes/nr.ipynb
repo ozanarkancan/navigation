{
 "cells": [
  {
   "cell_type": "code",
   "execution_count": 1,
   "metadata": {
    "collapsed": false
   },
   "outputs": [
    {
     "data": {
      "text/plain": [
       "StatsBase.WeightVec{Float64,Array{Float64,1}}([0.319088,0.344729,0.336182],1.0)"
      ]
     },
     "execution_count": 1,
     "metadata": {},
     "output_type": "execute_result"
    }
   ],
   "source": [
    "using StatsBase\n",
    "\n",
    "s = [874, 1293, 1070] ./ 3237\n",
    "p = [224, 242, 236] ./ 702\n",
    "\n",
    "s = WeightVec(s)\n",
    "p = WeightVec(p)"
   ]
  },
  {
   "cell_type": "code",
   "execution_count": 2,
   "metadata": {
    "collapsed": false
   },
   "outputs": [
    {
     "name": "stdout",
     "output_type": "stream",
     "text": [
      "Single: [0.660183,0.722624,0.679128]\n",
      "Paragraph: [0.267188,0.243607,0.2578]\n",
      "Weighted Single: (0.6913868947041041,0.026501546828584657)\n",
      "Weighted Paragraph: (0.2559030839067544,0.009693677779928798)\n",
      "Ensemble Weighted Single: (0.717338923963562,0.023886226690260026)\n",
      "Ensemble Weighted Paragraph: (0.29597361268810246,0.0317401082659962)\n"
     ]
    }
   ],
   "source": [
    "model = \"new grid beam\"\n",
    "rs_1 = [0.6590389016018307, 0.7001545595054096, 0.6766355140186916];\n",
    "rp_1 = [0.2982456140350877, 0.20967741935483872, 0.2743362831858407];\n",
    "\n",
    "rs_2 = [0.6979405034324943, 0.7554179566563467, 0.6822429906542056];\n",
    "rp_2 = [0.34234234234234234, 0.2773109243697479, 0.2682926829268293];\n",
    "\n",
    "rs_3 = [0.631578947368421, 0.6955177743431221, 0.6616822429906543];\n",
    "rp_3 = [0.17543859649122806, 0.1693548387096774, 0.19469026548672566];\n",
    "\n",
    "rs_4 = [0.6430205949656751, 0.7383900928792569, 0.6822429906542056];\n",
    "rp_4 = [0.25225225225225223, 0.2773109243697479, 0.2764227642276423];\n",
    "\n",
    "rs_5 = [0.6407322654462243, 0.714064914992272, 0.6841121495327103];\n",
    "rp_5 = [0.21052631578947367, 0.23387096774193547, 0.25663716814159293];\n",
    "\n",
    "rs_6 = [0.6887871853546911, 0.7321981424148607, 0.6878504672897197];\n",
    "rp_6 = [0.32432432432432434, 0.29411764705882354, 0.2764227642276423];\n",
    "\n",
    "rs_ens_1 = [0.6475972540045767, 0.7171561051004637, 0.7140186915887851];\n",
    "rp_ens_1 = [0.21929824561403508, 0.23387096774193547, 0.336283185840708];\n",
    "\n",
    "rs_ens_2 = [0.7208237986270023, 0.7693498452012384, 0.7121495327102804];\n",
    "rp_ens_2 = [0.35135135135135137, 0.29411764705882354, 0.34146341463414637];\n",
    "\n",
    "rs_m = (rs_1 + rs_2 + rs_3 + rs_4 + rs_5 + rs_6) / 6\n",
    "rp_m = (rp_1 + rp_2 + rp_3 + rp_4 + rp_5 + rp_6) / 6\n",
    "\n",
    "rs_ens_m = (rs_ens_1 + rs_ens_2) / 2\n",
    "rp_ens_m = (rp_ens_1 + rp_ens_2) / 2\n",
    "\n",
    "println(\"Single: $(rs_m)\")\n",
    "println(\"Paragraph: $(rp_m)\")\n",
    "println(\"Weighted Single: $(mean_and_std(rs_m, s))\")\n",
    "println(\"Weighted Paragraph: $(mean_and_std(rp_m, p))\")\n",
    "println(\"Ensemble Weighted Single: $(mean_and_std(rs_ens_m, s))\")\n",
    "println(\"Ensemble Weighted Paragraph: $(mean_and_std(rp_ens_m, p))\")"
   ]
  },
  {
   "cell_type": "code",
   "execution_count": null,
   "metadata": {
    "collapsed": true
   },
   "outputs": [],
   "source": []
  }
 ],
 "metadata": {
  "kernelspec": {
   "display_name": "Julia 0.5.0",
   "language": "julia",
   "name": "julia-0.5"
  },
  "language_info": {
   "file_extension": ".jl",
   "mimetype": "application/julia",
   "name": "julia",
   "version": "0.5.0"
  }
 },
 "nbformat": 4,
 "nbformat_minor": 0
}
